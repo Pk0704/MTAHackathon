{
 "cells": [
  {
   "cell_type": "code",
   "execution_count": null,
   "id": "87237c48",
   "metadata": {},
   "outputs": [
    {
     "name": "stdout",
     "output_type": "stream",
     "text": [
      "Unique values in 'Detection Group':\n",
      "['Brooklyn Bridge' 'West Side Highway at 60th St' 'West 60th St'\n",
      " 'Queensboro Bridge' 'Queens Midtown Tunnel' 'Lincoln Tunnel'\n",
      " 'Holland Tunnel' 'FDR Drive at 60th St' 'East 60th St'\n",
      " 'Williamsburg Bridge' 'Manhattan Bridge' 'Hugh L. Carey Tunnel']\n"
     ]
    }
   ],
   "source": [
    "import pandas as pd\n",
    "\n",
    "# Load your CSV (or use existing DataFrame)\n",
    "df = pd.read_csv(\"C:/Users/Hubert King/Downloads/MTA_Congestion_Relief_Zone_Vehicle_Entries__Beginning_2025_20250404.csv\")  # Replace with your actual file name\n"
   ]
  },
  {
   "cell_type": "code",
   "execution_count": null,
   "id": "32fd2117",
   "metadata": {},
   "outputs": [],
   "source": [
    "# Choose the column you're interested in\n",
    "column_name = \"Detection Group\"  # Replace with actual column name\n",
    "\n",
    "# Get unique values\n",
    "unique_values = df[column_name].unique()\n",
    "\n",
    "# Display the unique values\n",
    "print(f\"Unique values in '{column_name}':\")\n",
    "print(unique_values)\n"
   ]
  },
  {
   "cell_type": "code",
   "execution_count": 4,
   "id": "026288df",
   "metadata": {},
   "outputs": [
    {
     "name": "stdout",
     "output_type": "stream",
     "text": [
      "Unique values in 'Detection Region':\n",
      "['Brooklyn' 'West Side Highway' 'West 60th St' 'Queens' 'New Jersey'\n",
      " 'FDR Drive' 'East 60th St']\n"
     ]
    }
   ],
   "source": [
    "# Choose the column you're interested in\n",
    "column_name = \"Detection Region\"  # Replace with actual column name\n",
    "\n",
    "# Get unique values\n",
    "unique_values = df[column_name].unique()\n",
    "\n",
    "# Display the unique values\n",
    "print(f\"Unique values in '{column_name}':\")\n",
    "print(unique_values)\n"
   ]
  }
 ],
 "metadata": {
  "kernelspec": {
   "display_name": "base",
   "language": "python",
   "name": "python3"
  },
  "language_info": {
   "codemirror_mode": {
    "name": "ipython",
    "version": 3
   },
   "file_extension": ".py",
   "mimetype": "text/x-python",
   "name": "python",
   "nbconvert_exporter": "python",
   "pygments_lexer": "ipython3",
   "version": "3.12.7"
  }
 },
 "nbformat": 4,
 "nbformat_minor": 5
}
